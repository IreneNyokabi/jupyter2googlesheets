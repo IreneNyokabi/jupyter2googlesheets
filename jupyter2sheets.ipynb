{
 "cells": [
  {
   "cell_type": "code",
   "execution_count": null,
   "id": "b476f6ae",
   "metadata": {},
   "outputs": [],
   "source": [
    "#Import libraries \n",
    "import pandas as pd\n",
    "import warnings\n",
    "warnings.filterwarnings(\"ignore\")\n",
    "# Connection to googlesheet\n",
    "import gspread\n",
    "from oauth2client.service_account import ServiceAccountCredentials\n",
    "from df2gspread import df2gspread as d2g"
   ]
  },
  {
   "cell_type": "code",
   "execution_count": null,
   "id": "8f2bdb95",
   "metadata": {},
   "outputs": [],
   "source": [
    "# Configure the connection \n",
    "scope = ['https://www.googleapis.com/auth/drive.file', 'https://www.googleapis.com/auth/drive',\n",
    "             'https://www.googleapis.com/auth/drive.appdata']\n",
    "\n",
    "# Add the JSON file you downloaded from Google Cloud to your working directory\n",
    "# the JSON file in this case is called 'service_account_gs.json' you can rename as you wish\n",
    "credentials =ServiceAccountCredentials.from_json_keyfile_name('service_account_GS.json',\n",
    "                                                           scope\n",
    "                                                          )\n",
    "# Authorise your Notebook with credentials just provided above\n",
    "gc = gspread.authorize(credentials)\n",
    "\n",
    "# The spreadsheet ID, you see it in the URL path of your google sheet\n",
    "spreadsheet_key = '{sheet_id}'\n",
    "\n"
   ]
  },
  {
   "cell_type": "code",
   "execution_count": null,
   "id": "ceb0177a",
   "metadata": {},
   "outputs": [],
   "source": [
    "'''TRANSACS'''\n",
    "# Set the sheet name you want to upload data to and the start cell where the upload data begins \n",
    "wks_name = '{name_of_tab_as_should_appear_in_google_sheet}'\n",
    "\n",
    "##TODO: df is the name of the dataframe I want to pull above\n",
    "\n",
    "cell_of_start_df = 'A1:B15'  ##This shows the cells data should start updating from\n",
    "\n",
    "# upload the dataframe\n",
    "d2g.upload(df,\n",
    "       spreadsheet_key,\n",
    "       wks_name,\n",
    "       credentials=credentials,\n",
    "       col_names=True,\n",
    "       row_names=True,\n",
    "       start_cell = cell_of_start_df,\n",
    "       clean=True)\n",
    "print ('file successfully updated')"
   ]
  }
 ],
 "metadata": {
  "kernelspec": {
   "display_name": "Python 3",
   "language": "python",
   "name": "python3"
  },
  "language_info": {
   "codemirror_mode": {
    "name": "ipython",
    "version": 3
   },
   "file_extension": ".py",
   "mimetype": "text/x-python",
   "name": "python",
   "nbconvert_exporter": "python",
   "pygments_lexer": "ipython3",
   "version": "3.8.8"
  }
 },
 "nbformat": 4,
 "nbformat_minor": 5
}
